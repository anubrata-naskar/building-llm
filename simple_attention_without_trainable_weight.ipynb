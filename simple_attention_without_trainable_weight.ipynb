{
 "cells": [
  {
   "cell_type": "code",
   "execution_count": 35,
   "id": "85fcbb2b",
   "metadata": {},
   "outputs": [
    {
     "data": {
      "text/plain": [
       "tensor([-0.8529, -1.3223, -2.7716], grad_fn=<SelectBackward0>)"
      ]
     },
     "execution_count": 35,
     "metadata": {},
     "output_type": "execute_result"
    }
   ],
   "source": [
    "import tiktoken\n",
    "import torch\n",
    "from torch.utils.data import Dataset, DataLoader\n",
    "\n",
    "\n",
    "class GPTDatasetV1(Dataset):\n",
    "    def __init__(self, txt, tokenizer, max_length, stride):\n",
    "        self.input_ids = []\n",
    "        self.target_ids = []\n",
    "        \n",
    "        token_ids = tokenizer.encode(txt, allowed_special={\"<|endoftext|>\"})\n",
    "        \n",
    "        # Fix: Handle case where token_ids length equals max_length\n",
    "        if len(token_ids) == max_length:\n",
    "            # For exact match, we need max_length tokens for input\n",
    "            # and max_length tokens for target (shifted by 1)\n",
    "            input_chunk = token_ids  # Use all tokens\n",
    "            target_chunk = token_ids[1:] + [token_ids[-1]]  # Shift and repeat last token\n",
    "            self.input_ids.append(torch.tensor(input_chunk))\n",
    "            self.target_ids.append(torch.tensor(target_chunk))\n",
    "        elif len(token_ids) < max_length:\n",
    "            # Pad if shorter\n",
    "            padded_tokens = token_ids + [0] * (max_length - len(token_ids))\n",
    "            input_chunk = padded_tokens\n",
    "            target_chunk = padded_tokens[1:] + [0]\n",
    "            self.input_ids.append(torch.tensor(input_chunk))\n",
    "            self.target_ids.append(torch.tensor(target_chunk))\n",
    "        else:\n",
    "            # Original logic for longer texts\n",
    "            for i in range(0, len(token_ids) - max_length, stride):\n",
    "                input_chunk = token_ids[i : i + max_length]\n",
    "                target_chunk = token_ids[i + 1 : i + max_length + 1]\n",
    "                self.input_ids.append(torch.tensor(input_chunk))\n",
    "                self.target_ids.append(torch.tensor(target_chunk))\n",
    "\n",
    "    def __len__(self):\n",
    "        return len(self.input_ids)\n",
    "\n",
    "    def __getitem__(self, idx):\n",
    "        return self.input_ids[idx], self.target_ids[idx]\n",
    "\n",
    "\n",
    "def create_dataloader_v1(txt, batch_size=2, max_length=256,\n",
    "                         stride=128, shuffle=True, drop_last=True,\n",
    "                         num_workers=0):\n",
    "    \n",
    "    tokenizer = tiktoken.get_encoding(\"gpt2\")\n",
    "    dataset = GPTDatasetV1(txt, tokenizer, max_length, stride)\n",
    "    \n",
    "    dataloader = DataLoader(\n",
    "        dataset,\n",
    "        batch_size=batch_size,\n",
    "        shuffle=shuffle,\n",
    "        drop_last=drop_last,\n",
    "        num_workers=num_workers\n",
    "    )\n",
    "    \n",
    "    return dataloader    \n",
    "\n",
    "\n",
    "\n",
    "raw_text = \"Yours journey start with one steps\"\n",
    "tokenizer = tiktoken.get_encoding(\"gpt2\")\n",
    "token_ids = tokenizer.encode(raw_text, allowed_special={\"<|endoftext|>\"})\n",
    "\n",
    "max_length = len(token_ids)\n",
    "vocab_size = 50257\n",
    "output_dim = 3\n",
    "\n",
    "token_embedding_layer = torch.nn.Embedding(vocab_size, output_dim)\n",
    "pos_embedding_layer = torch.nn.Embedding(max_length, output_dim)\n",
    "\n",
    "dataloader = create_dataloader_v1(\n",
    "    raw_text, batch_size=1, max_length=max_length,\n",
    "    stride=max_length, shuffle=False\n",
    ")\n",
    "\n",
    "data_iter = iter(dataloader)\n",
    "inputs, targets = next(data_iter)\n",
    "\n",
    "token_embeddings = token_embedding_layer(inputs)\n",
    "pos_embeddings = pos_embedding_layer(torch.arange(max_length))\n",
    "\n",
    "input_embeddings = token_embeddings + pos_embeddings\n",
    "input_embeddings[0][0]\n"
   ]
  },
  {
   "cell_type": "markdown",
   "id": "587de106",
   "metadata": {},
   "source": [
    "## A simple self-attention mechanism without trainable weights"
   ]
  },
  {
   "cell_type": "code",
   "execution_count": 36,
   "id": "833bbfda",
   "metadata": {},
   "outputs": [
    {
     "data": {
      "text/plain": [
       "tensor([[ 10.1579,   2.4870,   3.5425,  -6.1913,  -8.3178,   0.1233,  -7.5881],\n",
       "        [  2.4870,   1.5492,  -0.2341,  -0.7940,  -0.8809,   0.6988,  -0.5017],\n",
       "        [  3.5425,  -0.2341,  14.8219,  -2.0039, -12.1672,  -4.5268,  -3.6738],\n",
       "        [ -6.1913,  -0.7940,  -2.0039,   4.4094,   5.3130,   0.1299,   5.7119],\n",
       "        [ -8.3178,  -0.8809, -12.1672,   5.3130,  13.3233,   3.1575,   7.5193],\n",
       "        [  0.1233,   0.6988,  -4.5268,   0.1299,   3.1575,   1.6430,   0.6994],\n",
       "        [ -7.5881,  -0.5017,  -3.6738,   5.7119,   7.5193,   0.6994,   7.6501]],\n",
       "       grad_fn=<CopySlices>)"
      ]
     },
     "execution_count": 36,
     "metadata": {},
     "output_type": "execute_result"
    }
   ],
   "source": [
    "seq_len = input_embeddings.shape[1]\n",
    "attn_scores = torch.empty(seq_len, seq_len)\n",
    "\n",
    "for i, x_i in enumerate(input_embeddings[0]):\n",
    "    for j, x_j in enumerate(input_embeddings[0]):\n",
    "        attn_scores[i,j] = torch.dot(x_i, x_j)\n",
    "        \n",
    "attn_scores        "
   ]
  },
  {
   "cell_type": "code",
   "execution_count": 37,
   "id": "ad2675ac",
   "metadata": {},
   "outputs": [
    {
     "data": {
      "text/plain": [
       "tensor([[ 10.1579,   2.4870,   3.5425,  -6.1913,  -8.3178,   0.1233,  -7.5881],\n",
       "        [  2.4870,   1.5492,  -0.2341,  -0.7940,  -0.8809,   0.6988,  -0.5017],\n",
       "        [  3.5425,  -0.2341,  14.8219,  -2.0039, -12.1672,  -4.5268,  -3.6738],\n",
       "        [ -6.1913,  -0.7940,  -2.0039,   4.4094,   5.3130,   0.1299,   5.7119],\n",
       "        [ -8.3178,  -0.8809, -12.1672,   5.3130,  13.3233,   3.1575,   7.5193],\n",
       "        [  0.1233,   0.6988,  -4.5268,   0.1299,   3.1575,   1.6430,   0.6994],\n",
       "        [ -7.5881,  -0.5017,  -3.6738,   5.7119,   7.5193,   0.6994,   7.6501]],\n",
       "       grad_fn=<MmBackward0>)"
      ]
     },
     "execution_count": 37,
     "metadata": {},
     "output_type": "execute_result"
    }
   ],
   "source": [
    "attn_scores = input_embeddings[0] @ input_embeddings[0].T\n",
    "attn_scores"
   ]
  },
  {
   "cell_type": "code",
   "execution_count": 38,
   "id": "2a34a687",
   "metadata": {},
   "outputs": [
    {
     "data": {
      "text/plain": [
       "tensor([[9.9815e-01, 4.6537e-04, 1.3371e-03, 7.9220e-08, 9.4478e-09, 4.3779e-05,\n",
       "         1.9599e-08],\n",
       "        [5.7244e-01, 2.2409e-01, 3.7667e-02, 2.1517e-02, 1.9727e-02, 9.5741e-02,\n",
       "         2.8823e-02],\n",
       "        [1.2630e-05, 2.8926e-07, 9.9999e-01, 4.9277e-08, 1.9002e-12, 3.9533e-09,\n",
       "         9.2774e-09],\n",
       "        [3.4736e-06, 7.6702e-04, 2.2874e-04, 1.3951e-01, 3.4437e-01, 1.9322e-03,\n",
       "         5.1319e-01],\n",
       "        [3.9806e-10, 6.7569e-07, 8.4753e-12, 3.3090e-04, 9.9662e-01, 3.8334e-05,\n",
       "         3.0053e-03],\n",
       "        [3.2334e-02, 5.7487e-02, 3.0911e-04, 3.2547e-02, 6.7201e-01, 1.4779e-01,\n",
       "         5.7523e-02],\n",
       "        [1.1918e-07, 1.4250e-04, 5.9727e-06, 7.1175e-02, 4.3378e-01, 4.7362e-04,\n",
       "         4.9442e-01]], grad_fn=<SoftmaxBackward0>)"
      ]
     },
     "execution_count": 38,
     "metadata": {},
     "output_type": "execute_result"
    }
   ],
   "source": [
    "attn_weights = torch.softmax(attn_scores, dim=1)\n",
    "attn_weights"
   ]
  },
  {
   "cell_type": "code",
   "execution_count": 39,
   "id": "d9269a8f",
   "metadata": {},
   "outputs": [
    {
     "data": {
      "text/plain": [
       "tensor([[-0.8540, -1.3241, -2.7658],\n",
       "        [-0.7305, -0.5577, -1.6744],\n",
       "        [-1.7375, -3.3299,  0.8452],\n",
       "        [ 0.1766,  2.2317,  1.6300],\n",
       "        [ 1.2886,  3.2411,  1.0571],\n",
       "        [ 0.7843,  2.4641,  0.6529],\n",
       "        [ 0.3153,  2.4075,  1.5686]], grad_fn=<MmBackward0>)"
      ]
     },
     "execution_count": 39,
     "metadata": {},
     "output_type": "execute_result"
    }
   ],
   "source": [
    "context_vecs = attn_weights @ input_embeddings[0]\n",
    "context_vecs"
   ]
  },
  {
   "cell_type": "code",
   "execution_count": null,
   "id": "29c38aa4",
   "metadata": {},
   "outputs": [],
   "source": []
  }
 ],
 "metadata": {
  "kernelspec": {
   "display_name": "myenv2",
   "language": "python",
   "name": "python3"
  },
  "language_info": {
   "codemirror_mode": {
    "name": "ipython",
    "version": 3
   },
   "file_extension": ".py",
   "mimetype": "text/x-python",
   "name": "python",
   "nbconvert_exporter": "python",
   "pygments_lexer": "ipython3",
   "version": "3.13.5"
  }
 },
 "nbformat": 4,
 "nbformat_minor": 5
}
