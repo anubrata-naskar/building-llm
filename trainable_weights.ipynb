{
 "cells": [
  {
   "cell_type": "markdown",
   "id": "19c9e165",
   "metadata": {},
   "source": [
    "## Creating Query, Key, Value matrix"
   ]
  },
  {
   "cell_type": "code",
   "execution_count": 1,
   "id": "3e92ddf0",
   "metadata": {},
   "outputs": [
    {
     "data": {
      "text/plain": [
       "tensor([[-0.6306, -1.9513,  1.6480],\n",
       "        [-0.5873, -0.3170, -0.9106],\n",
       "        [-1.1438, -0.2405,  0.4203],\n",
       "        [ 0.4340,  1.4606,  1.0211],\n",
       "        [ 0.7751,  0.6850,  1.1459],\n",
       "        [ 0.0522, -2.0567, -1.3790],\n",
       "        [-0.3948,  0.9785,  0.2447]], grad_fn=<SelectBackward0>)"
      ]
     },
     "execution_count": 1,
     "metadata": {},
     "output_type": "execute_result"
    }
   ],
   "source": [
    "import tiktoken\n",
    "import torch\n",
    "from torch.utils.data import Dataset, DataLoader\n",
    "\n",
    "\n",
    "class GPTDatasetV1(Dataset):\n",
    "    def __init__(self, txt, tokenizer, max_length, stride):\n",
    "        self.input_ids = []\n",
    "        self.target_ids = []\n",
    "        \n",
    "        token_ids = tokenizer.encode(txt, allowed_special={\"<|endoftext|>\"})\n",
    "        \n",
    "        if len(token_ids) == max_length:\n",
    "            input_chunk = token_ids\n",
    "            target_chunk = token_ids[1:] + [token_ids[-1]]\n",
    "            self.input_ids.append(torch.tensor(input_chunk))\n",
    "            self.target_ids.append(torch.tensor(target_chunk))\n",
    "            \n",
    "        elif len(token_ids) < max_length:\n",
    "            padded_tokens = token_ids + [0] * (max_length - len(token_ids))\n",
    "            input_chunk = padded_tokens\n",
    "            target_chunk = padded_tokens[1:] + [0]\n",
    "            self.input_ids.append(torch.tensor(input_chunk))\n",
    "            self.target_ids.append(torch.tensor(target_chunk))\n",
    "            \n",
    "        else:\n",
    "            for i in range(0, len(token_ids) - max_length, stride):\n",
    "                input_chunk = token_ids[i : i + max_length]\n",
    "                target_chunk = token_ids[i + 1 : i + max_length + 1]\n",
    "                self.input_ids.append(torch.tensor(input_chunk))\n",
    "                self.target_ids.append(torch.tensor(target_chunk))\n",
    "\n",
    "    def __len__(self):\n",
    "        return len(self.input_ids)\n",
    "\n",
    "    def __getitem__(self, idx):\n",
    "        return self.input_ids[idx], self.target_ids[idx]\n",
    "\n",
    "\n",
    "def create_dataloader_v1(txt, batch_size=2, max_length=256,\n",
    "                         stride=128, shuffle=True, drop_last=True,\n",
    "                         num_workers=0):\n",
    "    \n",
    "    tokenizer = tiktoken.get_encoding(\"gpt2\")\n",
    "    dataset = GPTDatasetV1(txt, tokenizer, max_length, stride)\n",
    "    \n",
    "    dataloader = DataLoader(\n",
    "        dataset,\n",
    "        batch_size=batch_size,\n",
    "        shuffle=shuffle,\n",
    "        drop_last=drop_last,\n",
    "        num_workers=num_workers\n",
    "    )\n",
    "    \n",
    "    return dataloader    \n",
    "\n",
    "\n",
    "\n",
    "raw_text = \"Yours journey start with one steps\"\n",
    "tokenizer = tiktoken.get_encoding(\"gpt2\")\n",
    "token_ids = tokenizer.encode(raw_text, allowed_special={\"<|endoftext|>\"})\n",
    "\n",
    "max_length = len(token_ids)\n",
    "vocab_size = 50257\n",
    "output_dim = 3\n",
    "\n",
    "token_embedding_layer = torch.nn.Embedding(vocab_size, output_dim)\n",
    "pos_embedding_layer = torch.nn.Embedding(max_length, output_dim)\n",
    "\n",
    "dataloader = create_dataloader_v1(\n",
    "    raw_text, batch_size=1, max_length=max_length,\n",
    "    stride=max_length, shuffle=False\n",
    ")\n",
    "\n",
    "data_iter = iter(dataloader)\n",
    "inputs, targets = next(data_iter)\n",
    "\n",
    "token_embeddings = token_embedding_layer(inputs)\n",
    "pos_embeddings = pos_embedding_layer(torch.arange(max_length))\n",
    "\n",
    "input_embeddings = token_embeddings + pos_embeddings\n",
    "input_embeddings[0]\n"
   ]
  },
  {
   "cell_type": "code",
   "execution_count": 7,
   "id": "0f61073d",
   "metadata": {},
   "outputs": [
    {
     "name": "stdout",
     "output_type": "stream",
     "text": [
      "Input Embeddings Shape: 7 rows, 3 columns\n"
     ]
    }
   ],
   "source": [
    "rows = input_embeddings[0].shape[0]\n",
    "cols = input_embeddings[0].shape[1]\n",
    "print(f\"Input Embeddings Shape: {rows} rows, {cols} columns\")"
   ]
  },
  {
   "cell_type": "code",
   "execution_count": 16,
   "id": "80889f36",
   "metadata": {},
   "outputs": [
    {
     "name": "stdout",
     "output_type": "stream",
     "text": [
      "Parameter containing:\n",
      "tensor([[-0.1115,  0.1204],\n",
      "        [-0.3696, -0.2404],\n",
      "        [-1.1969,  0.2093]], requires_grad=True)\n",
      "Parameter containing:\n",
      "tensor([[-0.9724, -0.7550],\n",
      "        [ 0.3239, -0.1085],\n",
      "        [ 0.2103, -0.3908]], requires_grad=True)\n",
      "Parameter containing:\n",
      "tensor([[ 0.2350,  0.6653],\n",
      "        [ 0.3528,  0.9728],\n",
      "        [-0.0386, -0.8861]], requires_grad=True)\n"
     ]
    }
   ],
   "source": [
    "output_dim = 2\n",
    "torch.manual_seed(123)\n",
    "w_query = torch.nn.Parameter(torch.randn(cols, output_dim))\n",
    "w_key = torch.nn.Parameter(torch.randn(cols, output_dim))\n",
    "w_value = torch.nn.Parameter(torch.randn(cols, output_dim))\n",
    "\n",
    "print(w_query)\n",
    "print(w_key)\n",
    "print(w_value)"
   ]
  },
  {
   "cell_type": "markdown",
   "id": "b602488b",
   "metadata": {},
   "source": [
    "## Try for single row. \"Yours\""
   ]
  },
  {
   "cell_type": "code",
   "execution_count": 18,
   "id": "549633e9",
   "metadata": {},
   "outputs": [
    {
     "name": "stdout",
     "output_type": "stream",
     "text": [
      "tensor([-1.1809,  0.7381], grad_fn=<SqueezeBackward4>)\n",
      "tensor([0.3277, 0.0438], grad_fn=<SqueezeBackward4>)\n",
      "tensor([-0.9003, -3.7780], grad_fn=<SqueezeBackward4>)\n"
     ]
    }
   ],
   "source": [
    "w_query1 = input_embeddings[0][0] @ w_query\n",
    "w_key1 = input_embeddings[0][0] @ w_key\n",
    "w_value1 = input_embeddings[0][0] @ w_value\n",
    "print(w_query1)\n",
    "print(w_key1)\n",
    "print(w_value1)"
   ]
  },
  {
   "cell_type": "markdown",
   "id": "16488fdf",
   "metadata": {},
   "source": [
    "# attention score"
   ]
  },
  {
   "cell_type": "code",
   "execution_count": 19,
   "id": "58b4b9fb",
   "metadata": {},
   "outputs": [
    {
     "data": {
      "text/plain": [
       "tensor(-0.3547, grad_fn=<DotBackward0>)"
      ]
     },
     "execution_count": 19,
     "metadata": {},
     "output_type": "execute_result"
    }
   ],
   "source": [
    "atten_score11 = torch.dot(w_query1, w_key1)\n",
    "atten_score11"
   ]
  },
  {
   "cell_type": "code",
   "execution_count": null,
   "id": "85f12351",
   "metadata": {},
   "outputs": [
    {
     "data": {
      "text/plain": [
       "tensor([[-0.9003, -3.7780],\n",
       "        [-0.2147,  0.1078],\n",
       "        [-0.3698, -1.3673],\n",
       "        [ 0.5779,  0.8049],\n",
       "        [ 0.3795,  0.1666],\n",
       "        [-0.6601, -0.7442],\n",
       "        [ 0.2430,  0.4725]], grad_fn=<MmBackward0>)"
      ]
     },
     "execution_count": 21,
     "metadata": {},
     "output_type": "execute_result"
    }
   ],
   "source": [
    "keys = input_embeddings[0] @ w_key\n",
    "values = input_embeddings[0] @ w_value\n",
    "\n"
   ]
  },
  {
   "cell_type": "markdown",
   "id": "b3e55a42",
   "metadata": {},
   "source": [
    "**For entire first row**"
   ]
  },
  {
   "cell_type": "code",
   "execution_count": 22,
   "id": "8d168d37",
   "metadata": {},
   "outputs": [
    {
     "data": {
      "text/plain": [
       "tensor([-0.3547,  0.2884, -0.7904, -0.9674, -0.4740,  1.7226, -0.8173],\n",
       "       grad_fn=<SqueezeBackward4>)"
      ]
     },
     "execution_count": 22,
     "metadata": {},
     "output_type": "execute_result"
    }
   ],
   "source": [
    "atten_score1 = w_query1 @ keys.T\n",
    "atten_score1"
   ]
  },
  {
   "cell_type": "code",
   "execution_count": 24,
   "id": "51fc22ff",
   "metadata": {},
   "outputs": [],
   "source": [
    "atten_weight_1 = torch.softmax(atten_score1/keys.shape[1]**0.5, dim=-1)"
   ]
  },
  {
   "cell_type": "code",
   "execution_count": 25,
   "id": "a9133e5c",
   "metadata": {},
   "outputs": [
    {
     "data": {
      "text/plain": [
       "tensor(1., grad_fn=<SumBackward0>)"
      ]
     },
     "execution_count": 25,
     "metadata": {},
     "output_type": "execute_result"
    }
   ],
   "source": [
    "atten_weight_1.sum()"
   ]
  },
  {
   "cell_type": "code",
   "execution_count": 26,
   "id": "30387fb0",
   "metadata": {},
   "outputs": [
    {
     "data": {
      "text/plain": [
       "tensor([-0.3499, -0.6869], grad_fn=<SqueezeBackward4>)"
      ]
     },
     "execution_count": 26,
     "metadata": {},
     "output_type": "execute_result"
    }
   ],
   "source": [
    "comtext_vec1 = atten_weight_1 @ values\n",
    "comtext_vec1"
   ]
  },
  {
   "cell_type": "markdown",
   "id": "893d0fe2",
   "metadata": {},
   "source": [
    "## Compact class design for entire process"
   ]
  },
  {
   "cell_type": "code",
   "execution_count": 35,
   "id": "c7255e09",
   "metadata": {},
   "outputs": [],
   "source": [
    "import torch.nn as nn\n",
    "class SelfAttention_v1(nn.Module):\n",
    "    \n",
    "    def __init__(self, d_in, d_out):\n",
    "        super().__init__()\n",
    "        self.w_query = torch.nn.Parameter(torch.randn(d_in, d_out))\n",
    "        self.w_key = torch.nn.Parameter(torch.randn(d_in, d_out))\n",
    "        self.w_value = torch.nn.Parameter(torch.randn(d_in, d_out))\n",
    "        \n",
    "    def forward(self, inputs):\n",
    "        queries = inputs @ self.w_query\n",
    "        keys = inputs @ self.w_key\n",
    "        values = inputs @ self.w_value\n",
    "        \n",
    "        attn_scores = queries @ keys.T\n",
    "        attn_weights = torch.softmax(attn_scores / keys.shape[1]**0.5, dim=-1)\n",
    "        \n",
    "        context_vec = attn_weights @ values\n",
    "        \n",
    "        return context_vec\n",
    "\n",
    "\n",
    "torch.manual_seed(123)\n",
    "sa_v1 = SelfAttention_v1(cols,output_dim)    "
   ]
  },
  {
   "cell_type": "code",
   "execution_count": 36,
   "id": "73702d44",
   "metadata": {},
   "outputs": [
    {
     "data": {
      "text/plain": [
       "tensor([[-0.3499, -0.6869],\n",
       "        [-0.1021, -0.6654],\n",
       "        [-0.1479, -0.6058],\n",
       "        [-0.2591, -0.5528],\n",
       "        [-0.3058, -0.6036],\n",
       "        [-0.1788, -0.8294],\n",
       "        [-0.1150, -0.5333]], grad_fn=<MmBackward0>)"
      ]
     },
     "execution_count": 36,
     "metadata": {},
     "output_type": "execute_result"
    }
   ],
   "source": [
    "sa_v1(input_embeddings[0])"
   ]
  },
  {
   "cell_type": "markdown",
   "id": "4f6213a7",
   "metadata": {},
   "source": [
    "**Updated with linear layer**"
   ]
  },
  {
   "cell_type": "code",
   "execution_count": 37,
   "id": "89f32db7",
   "metadata": {},
   "outputs": [],
   "source": [
    "class SelfAttention_v2(nn.Module):\n",
    "    \n",
    "    def __init__(self, d_in, d_out):\n",
    "        super().__init__()\n",
    "        self.w_query = torch.nn.Linear(d_in, d_out, bias=False)\n",
    "        self.w_key = torch.nn.Linear(d_in, d_out, bias=False)\n",
    "        self.w_value = torch.nn.Linear(d_in, d_out, bias=False)\n",
    "        \n",
    "    def forward(self, inputs):\n",
    "        queries = self.w_query(inputs)\n",
    "        keys = self.w_key(inputs)\n",
    "        values = self.w_value(inputs)\n",
    "        \n",
    "        attn_scores = queries @ keys.T\n",
    "        attn_weights = torch.softmax(attn_scores / keys.shape[1]**0.5, dim=-1)\n",
    "        \n",
    "        context_vec = attn_weights @ values\n",
    "        \n",
    "        return context_vec\n"
   ]
  },
  {
   "cell_type": "code",
   "execution_count": 38,
   "id": "c594e79b",
   "metadata": {},
   "outputs": [
    {
     "data": {
      "text/plain": [
       "tensor([[-0.0493,  0.3184],\n",
       "        [ 0.2791,  0.2625],\n",
       "        [ 0.1756,  0.2637],\n",
       "        [-0.0586,  0.1474],\n",
       "        [-0.1230,  0.1648],\n",
       "        [ 0.2659,  0.3405],\n",
       "        [ 0.1293,  0.1971]], grad_fn=<MmBackward0>)"
      ]
     },
     "execution_count": 38,
     "metadata": {},
     "output_type": "execute_result"
    }
   ],
   "source": [
    "torch.manual_seed(123)\n",
    "sa_v2 = SelfAttention_v2(cols,output_dim)    \n",
    "sa_v2(input_embeddings[0])"
   ]
  }
 ],
 "metadata": {
  "kernelspec": {
   "display_name": "myenv2",
   "language": "python",
   "name": "python3"
  },
  "language_info": {
   "codemirror_mode": {
    "name": "ipython",
    "version": 3
   },
   "file_extension": ".py",
   "mimetype": "text/x-python",
   "name": "python",
   "nbconvert_exporter": "python",
   "pygments_lexer": "ipython3",
   "version": "3.13.5"
  }
 },
 "nbformat": 4,
 "nbformat_minor": 5
}
