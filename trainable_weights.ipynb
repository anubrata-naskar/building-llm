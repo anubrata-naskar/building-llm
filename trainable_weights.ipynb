{
 "cells": [
  {
   "cell_type": "markdown",
   "id": "19c9e165",
   "metadata": {},
   "source": [
    "## Creating Query, Key, Value matrix"
   ]
  },
  {
   "cell_type": "code",
   "execution_count": 2,
   "id": "3e92ddf0",
   "metadata": {},
   "outputs": [
    {
     "data": {
      "text/plain": [
       "tensor([[ 2.1298, -0.7954,  0.2430],\n",
       "        [-0.4477,  3.5815, -1.0862],\n",
       "        [ 1.3366, -0.7342, -0.0239],\n",
       "        [ 0.1761, -1.5721,  1.6160],\n",
       "        [-0.6169,  1.3145, -0.2678],\n",
       "        [ 2.3103,  0.7285, -0.8697],\n",
       "        [ 0.4503,  1.0859,  0.0132]], grad_fn=<SelectBackward0>)"
      ]
     },
     "execution_count": 2,
     "metadata": {},
     "output_type": "execute_result"
    }
   ],
   "source": [
    "import tiktoken\n",
    "import torch\n",
    "from torch.utils.data import Dataset, DataLoader\n",
    "\n",
    "\n",
    "class GPTDatasetV1(Dataset):\n",
    "    def __init__(self, txt, tokenizer, max_length, stride):\n",
    "        self.input_ids = []\n",
    "        self.target_ids = []\n",
    "        \n",
    "        token_ids = tokenizer.encode(txt, allowed_special={\"<|endoftext|>\"})\n",
    "        \n",
    "        if len(token_ids) == max_length:\n",
    "            input_chunk = token_ids\n",
    "            target_chunk = token_ids[1:] + [token_ids[-1]]\n",
    "            self.input_ids.append(torch.tensor(input_chunk))\n",
    "            self.target_ids.append(torch.tensor(target_chunk))\n",
    "            \n",
    "        elif len(token_ids) < max_length:\n",
    "            padded_tokens = token_ids + [0] * (max_length - len(token_ids))\n",
    "            input_chunk = padded_tokens\n",
    "            target_chunk = padded_tokens[1:] + [0]\n",
    "            self.input_ids.append(torch.tensor(input_chunk))\n",
    "            self.target_ids.append(torch.tensor(target_chunk))\n",
    "            \n",
    "        else:\n",
    "            for i in range(0, len(token_ids) - max_length, stride):\n",
    "                input_chunk = token_ids[i : i + max_length]\n",
    "                target_chunk = token_ids[i + 1 : i + max_length + 1]\n",
    "                self.input_ids.append(torch.tensor(input_chunk))\n",
    "                self.target_ids.append(torch.tensor(target_chunk))\n",
    "\n",
    "    def __len__(self):\n",
    "        return len(self.input_ids)\n",
    "\n",
    "    def __getitem__(self, idx):\n",
    "        return self.input_ids[idx], self.target_ids[idx]\n",
    "\n",
    "\n",
    "def create_dataloader_v1(txt, batch_size=2, max_length=256,\n",
    "                         stride=128, shuffle=True, drop_last=True,\n",
    "                         num_workers=0):\n",
    "    \n",
    "    tokenizer = tiktoken.get_encoding(\"gpt2\")\n",
    "    dataset = GPTDatasetV1(txt, tokenizer, max_length, stride)\n",
    "    \n",
    "    dataloader = DataLoader(\n",
    "        dataset,\n",
    "        batch_size=batch_size,\n",
    "        shuffle=shuffle,\n",
    "        drop_last=drop_last,\n",
    "        num_workers=num_workers\n",
    "    )\n",
    "    \n",
    "    return dataloader    \n",
    "\n",
    "\n",
    "\n",
    "raw_text = \"Yours journey start with one steps\"\n",
    "tokenizer = tiktoken.get_encoding(\"gpt2\")\n",
    "token_ids = tokenizer.encode(raw_text, allowed_special={\"<|endoftext|>\"})\n",
    "\n",
    "max_length = len(token_ids)\n",
    "vocab_size = 50257\n",
    "output_dim = 3\n",
    "\n",
    "token_embedding_layer = torch.nn.Embedding(vocab_size, output_dim)\n",
    "pos_embedding_layer = torch.nn.Embedding(max_length, output_dim)\n",
    "\n",
    "dataloader = create_dataloader_v1(\n",
    "    raw_text, batch_size=1, max_length=max_length,\n",
    "    stride=max_length, shuffle=False\n",
    ")\n",
    "\n",
    "data_iter = iter(dataloader)\n",
    "inputs, targets = next(data_iter)\n",
    "\n",
    "token_embeddings = token_embedding_layer(inputs)\n",
    "pos_embeddings = pos_embedding_layer(torch.arange(max_length))\n",
    "\n",
    "input_embeddings = token_embeddings + pos_embeddings\n",
    "input_embeddings[0]\n"
   ]
  },
  {
   "cell_type": "code",
   "execution_count": null,
   "id": "0f61073d",
   "metadata": {},
   "outputs": [],
   "source": []
  }
 ],
 "metadata": {
  "kernelspec": {
   "display_name": "myenv2",
   "language": "python",
   "name": "python3"
  },
  "language_info": {
   "codemirror_mode": {
    "name": "ipython",
    "version": 3
   },
   "file_extension": ".py",
   "mimetype": "text/x-python",
   "name": "python",
   "nbconvert_exporter": "python",
   "pygments_lexer": "ipython3",
   "version": "3.13.5"
  }
 },
 "nbformat": 4,
 "nbformat_minor": 5
}
