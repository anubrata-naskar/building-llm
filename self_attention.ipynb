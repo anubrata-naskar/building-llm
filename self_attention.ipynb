{
 "cells": [
  {
   "cell_type": "markdown",
   "id": "d2624df3",
   "metadata": {},
   "source": [
    "## Tokenization from the previous"
   ]
  },
  {
   "cell_type": "code",
   "execution_count": 49,
   "id": "67c7a1e4",
   "metadata": {},
   "outputs": [
    {
     "name": "stdout",
     "output_type": "stream",
     "text": [
      "inputs = tensor([[  56, 4662, 7002,  923]])\n",
      "tensor([[[ 0.5002, -1.5425, -1.2515],\n",
      "         [ 1.4524,  0.8233,  1.5379],\n",
      "         [ 0.1790,  0.7805,  0.2986],\n",
      "         [-4.3992, -0.5013, -0.0914]]], grad_fn=<AddBackward0>)\n"
     ]
    }
   ],
   "source": [
    "import tiktoken\n",
    "import torch\n",
    "from torch.utils.data import Dataset, DataLoader\n",
    "\n",
    "\n",
    "class GPTDatasetV1(Dataset):\n",
    "    def __init__(self, txt, tokenizer, max_length, stride):\n",
    "        self.input_ids = []\n",
    "        self.target_ids = []\n",
    "        \n",
    "        token_ids = tokenizer.encode(txt, allowed_special={\"<|endoftext|>\"})\n",
    "\n",
    "        for i in range(0, len(token_ids) - max_length, stride):\n",
    "            input_chunk = token_ids[i : i + max_length]\n",
    "            target_chunk = token_ids[i + 1 : i + max_length + 1]\n",
    "            self.input_ids.append(torch.tensor(input_chunk))\n",
    "            self.target_ids.append(torch.tensor(target_chunk))\n",
    "\n",
    "    def __len__(self):\n",
    "        return len(self.input_ids)\n",
    "\n",
    "    def __getitem__(self, idx):\n",
    "        return self.input_ids[idx], self.target_ids[idx]\n",
    "\n",
    "def create_dataloader_v1(txt, batch_size=2, max_length=256,\n",
    "                         stride=128, shuffle=True, drop_last=True,\n",
    "                         num_workers=0):\n",
    "    \n",
    "    tokenizer = tiktoken.get_encoding(\"gpt2\")\n",
    "\n",
    "    dataset = GPTDatasetV1(txt, tokenizer, max_length, stride)\n",
    "\n",
    "    dataloader = DataLoader(\n",
    "        dataset,\n",
    "        batch_size=batch_size,\n",
    "        shuffle=shuffle,\n",
    "        drop_last=drop_last,\n",
    "        num_workers=num_workers\n",
    "    )\n",
    "\n",
    "    return dataloader    \n",
    "\n",
    "raw_text = \"Yours journey start with one steps.\"\n",
    "max_length = 4\n",
    "data_loader = create_dataloader_v1(raw_text, batch_size=2, max_length=max_length, stride=max_length, shuffle=False)\n",
    "\n",
    "vocab_size = 50257\n",
    "output_dim = 3\n",
    "\n",
    "token_embedding_layer = torch.nn.Embedding(vocab_size, output_dim)\n",
    "\n",
    "\n",
    "dataloader = create_dataloader_v1(\n",
    "    raw_text, batch_size=1, max_length=max_length,\n",
    "    stride=max_length, shuffle=False\n",
    ")\n",
    "data_iter = iter(dataloader)\n",
    "inputs, targets = next(data_iter)\n",
    "\n",
    "token_embeddings = token_embedding_layer(inputs)\n",
    "token_embeddings.shape\n",
    "\n",
    "context_length = max_length\n",
    "pos_embedding_layer = torch.nn.Embedding(context_length, output_dim)\n",
    "\n",
    "pos_embedding = pos_embedding_layer(torch.arange(max_length))\n",
    "input_embeddings = token_embeddings + pos_embedding\n",
    "\n",
    "print(\"inputs =\", inputs)\n",
    "print(input_embeddings)"
   ]
  },
  {
   "cell_type": "markdown",
   "id": "7be5c866",
   "metadata": {},
   "source": [
    "## Simple self-attention"
   ]
  },
  {
   "cell_type": "code",
   "execution_count": 50,
   "id": "12bb3eb1",
   "metadata": {},
   "outputs": [
    {
     "name": "stdout",
     "output_type": "stream",
     "text": [
      "Input 1: tensor(-1.4881, grad_fn=<DotBackward0>) Input 2: tensor(-1.3127, grad_fn=<DotBackward0>)\n"
     ]
    }
   ],
   "source": [
    "input1 = input_embeddings[0][0]\n",
    "input2 = input_embeddings[0][2]\n",
    "input3 = input_embeddings[0][3]\n",
    "result1 = torch.dot(input2, input1)\n",
    "result2 = torch.dot(input3, input1)\n",
    "print(\"Input 1:\", result1, \"Input 2:\", result2)"
   ]
  },
  {
   "cell_type": "code",
   "execution_count": 51,
   "id": "79b3046e",
   "metadata": {},
   "outputs": [
    {
     "name": "stdout",
     "output_type": "stream",
     "text": [
      "Attention Scores (dot products):\n",
      "tensor([[ 4.1959, -2.4682, -1.4881, -1.3127],\n",
      "        [-2.4682,  5.1524,  1.3617, -6.9430],\n",
      "        [-1.4881,  1.3617,  0.7303, -1.2060],\n",
      "        [-1.3127, -6.9430, -1.2060, 19.6129]], grad_fn=<MmBackward0>)\n"
     ]
    }
   ],
   "source": [
    "import torch.nn.functional as F\n",
    "embeddings = input_embeddings.squeeze(0)\n",
    "attention_scores = torch.matmul(embeddings, embeddings.transpose(0, 1))\n",
    "print(\"Attention Scores (dot products):\")\n",
    "print(attention_scores)\n"
   ]
  },
  {
   "cell_type": "code",
   "execution_count": 52,
   "id": "8d3175db",
   "metadata": {},
   "outputs": [
    {
     "name": "stdout",
     "output_type": "stream",
     "text": [
      "w11 = 4.1959\n",
      "w12 = -2.4682\n",
      "w13 = -1.4881\n",
      "w14 = -1.3127\n",
      "w21 = -2.4682\n",
      "w22 = 5.1524\n",
      "w23 = 1.3617\n",
      "w24 = -6.9430\n",
      "w31 = -1.4881\n",
      "w32 = 1.3617\n",
      "w33 = 0.7303\n",
      "w34 = -1.2060\n",
      "w41 = -1.3127\n",
      "w42 = -6.9430\n",
      "w43 = -1.2060\n",
      "w44 = 19.6129\n"
     ]
    }
   ],
   "source": [
    "for i in range(4):\n",
    "    for j in range(4):\n",
    "        print(f\"w{i+1}{j+1} = {attention_scores[i][j]:.4f}\")"
   ]
  },
  {
   "cell_type": "code",
   "execution_count": 53,
   "id": "054e01d6",
   "metadata": {},
   "outputs": [
    {
     "name": "stdout",
     "output_type": "stream",
     "text": [
      "\n",
      "Attention Weights (after softmax):\n",
      "tensor([[9.9135e-01, 1.2648e-03, 3.3705e-03, 4.0164e-03],\n",
      "        [4.7918e-04, 9.7744e-01, 2.2071e-02, 5.4591e-06],\n",
      "        [3.4719e-02, 6.0010e-01, 3.1915e-01, 4.6032e-02],\n",
      "        [8.1677e-10, 2.9303e-12, 9.0875e-10, 1.0000e+00]],\n",
      "       grad_fn=<SoftmaxBackward0>)\n"
     ]
    }
   ],
   "source": [
    "attention_weights = F.softmax(attention_scores, dim=-1)\n",
    "print(\"\\nAttention Weights (after softmax):\")\n",
    "print(attention_weights)"
   ]
  },
  {
   "cell_type": "code",
   "execution_count": 47,
   "id": "702cb567",
   "metadata": {},
   "outputs": [
    {
     "name": "stdout",
     "output_type": "stream",
     "text": [
      "\n",
      "Individual attention weights:\n",
      "w11 = 0.9556\n",
      "w12 = 0.0000\n",
      "w13 = 0.0000\n",
      "w14 = 0.0000\n",
      "w21 = 0.0000\n",
      "w22 = 0.9999\n",
      "w23 = 0.0001\n",
      "w24 = 0.0000\n",
      "w31 = 0.0938\n",
      "w32 = 0.0154\n",
      "w33 = 0.7404\n",
      "w34 = 0.0106\n",
      "w41 = 0.1423\n",
      "w42 = 0.0174\n",
      "w43 = 0.0364\n",
      "w44 = 0.0540\n"
     ]
    }
   ],
   "source": [
    "# Print individual weights\n",
    "print(\"\\nIndividual attention weights:\")\n",
    "for i in range(4):\n",
    "    for j in range(4):\n",
    "        print(f\"w{i+1}{j+1} = {attention_weights[i][j]:.4f}\")"
   ]
  },
  {
   "cell_type": "markdown",
   "id": "a7b5b7b0",
   "metadata": {},
   "source": [
    "compute the context vector"
   ]
  },
  {
   "cell_type": "code",
   "execution_count": 48,
   "id": "5b446ce5",
   "metadata": {},
   "outputs": [
    {
     "data": {
      "text/plain": [
       "tensor([[ 0.9837,  0.2052,  3.3906],\n",
       "        [-1.0465,  1.8418, -2.4984],\n",
       "        [-0.7738,  1.2155,  1.4582],\n",
       "        [ 1.7287,  1.2394,  1.7910],\n",
       "        [ 2.9638,  1.1900,  1.1359],\n",
       "        [-0.4400, -3.0991, -1.5225],\n",
       "        [ 1.3644,  1.2937,  2.5405]], grad_fn=<MmBackward0>)"
      ]
     },
     "execution_count": 48,
     "metadata": {},
     "output_type": "execute_result"
    }
   ],
   "source": [
    "context_vectors = torch.matmul(attention_weights, embeddings)\n",
    "context_vectors"
   ]
  },
  {
   "cell_type": "code",
   "execution_count": null,
   "id": "40397100",
   "metadata": {},
   "outputs": [],
   "source": []
  }
 ],
 "metadata": {
  "kernelspec": {
   "display_name": "myenv2",
   "language": "python",
   "name": "python3"
  },
  "language_info": {
   "codemirror_mode": {
    "name": "ipython",
    "version": 3
   },
   "file_extension": ".py",
   "mimetype": "text/x-python",
   "name": "python",
   "nbconvert_exporter": "python",
   "pygments_lexer": "ipython3",
   "version": "3.13.5"
  }
 },
 "nbformat": 4,
 "nbformat_minor": 5
}
