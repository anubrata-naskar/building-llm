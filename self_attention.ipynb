{
 "cells": [
  {
   "cell_type": "markdown",
   "id": "d2624df3",
   "metadata": {},
   "source": [
    "## Tokenization from the previous"
   ]
  },
  {
   "cell_type": "code",
   "execution_count": 13,
   "id": "67c7a1e4",
   "metadata": {},
   "outputs": [
    {
     "name": "stdout",
     "output_type": "stream",
     "text": [
      "inputs = tensor([[  56, 4662, 7002,  923]])\n",
      "tensor([[[ 0.4072, -1.8805,  1.4397],\n",
      "         [-0.5533,  0.3557,  0.1620],\n",
      "         [-0.3950,  1.1908, -0.5788],\n",
      "         [-0.4490,  0.2006,  0.0126]]], grad_fn=<AddBackward0>)\n"
     ]
    }
   ],
   "source": [
    "import tiktoken\n",
    "import torch\n",
    "from torch.utils.data import Dataset, DataLoader\n",
    "\n",
    "class GPTDatasetV1(Dataset):\n",
    "    def __init__(self, txt, tokenizer, max_length, stride):\n",
    "        self.input_ids = []\n",
    "        self.target_ids = []\n",
    "        \n",
    "        token_ids = tokenizer.encode(txt, allowed_special={\"<|endoftext|>\"})\n",
    "\n",
    "        for i in range(0, len(token_ids) - max_length, stride):\n",
    "            input_chunk = token_ids[i : i + max_length]\n",
    "            target_chunk = token_ids[i + 1 : i + max_length + 1]\n",
    "            self.input_ids.append(torch.tensor(input_chunk))\n",
    "            self.target_ids.append(torch.tensor(target_chunk))\n",
    "\n",
    "    def __len__(self):\n",
    "        return len(self.input_ids)\n",
    "\n",
    "    def __getitem__(self, idx):\n",
    "        return self.input_ids[idx], self.target_ids[idx]\n",
    "\n",
    "def create_dataloader_v1(txt, batch_size=2, max_length=256,\n",
    "                         stride=128, shuffle=True, drop_last=True,\n",
    "                         num_workers=0):\n",
    "    \n",
    "    tokenizer = tiktoken.get_encoding(\"gpt2\")\n",
    "\n",
    "    dataset = GPTDatasetV1(txt, tokenizer, max_length, stride)\n",
    "\n",
    "    dataloader = DataLoader(\n",
    "        dataset,\n",
    "        batch_size=batch_size,\n",
    "        shuffle=shuffle,\n",
    "        drop_last=drop_last,\n",
    "        num_workers=num_workers\n",
    "    )\n",
    "\n",
    "    return dataloader    \n",
    "\n",
    "raw_text = \"Yours journey start with one steps.\"\n",
    "data_loader = create_dataloader_v1(raw_text, batch_size=2, max_length=4, stride=4, shuffle=False)\n",
    "\n",
    "vocab_size = 50257\n",
    "output_dim = 3\n",
    "\n",
    "token_embedding_layer = torch.nn.Embedding(vocab_size, output_dim)\n",
    "\n",
    "max_length = 4\n",
    "dataloader = create_dataloader_v1(\n",
    "    raw_text, batch_size=1, max_length=max_length,\n",
    "    stride=max_length, shuffle=False\n",
    ")\n",
    "data_iter = iter(dataloader)\n",
    "inputs, targets = next(data_iter)\n",
    "\n",
    "token_embeddings = token_embedding_layer(inputs)\n",
    "token_embeddings.shape\n",
    "\n",
    "context_length = max_length\n",
    "pos_embedding_layer = torch.nn.Embedding(context_length, output_dim)\n",
    "\n",
    "pos_embedding = pos_embedding_layer(torch.arange(max_length))\n",
    "input_embeddings = token_embeddings + pos_embedding\n",
    "\n",
    "print(\"inputs =\", inputs)\n",
    "print(input_embeddings)"
   ]
  },
  {
   "cell_type": "markdown",
   "id": "7be5c866",
   "metadata": {},
   "source": [
    "## Simple self-attention"
   ]
  },
  {
   "cell_type": "code",
   "execution_count": 28,
   "id": "12bb3eb1",
   "metadata": {},
   "outputs": [
    {
     "name": "stdout",
     "output_type": "stream",
     "text": [
      "Input 1: tensor(-3.2334, grad_fn=<DotBackward0>) Input 2: tensor(-0.5419, grad_fn=<DotBackward0>)\n"
     ]
    }
   ],
   "source": [
    "input1 = input_embeddings[0][0]\n",
    "input2 = input_embeddings[0][2]\n",
    "input3 = input_embeddings[0][3]\n",
    "result1 = torch.dot(input2, input1)\n",
    "result2 = torch.dot(input3, input1)\n",
    "print(\"Input 1:\", result1, \"Input 2:\", result2)"
   ]
  },
  {
   "cell_type": "code",
   "execution_count": 36,
   "id": "79b3046e",
   "metadata": {},
   "outputs": [
    {
     "name": "stdout",
     "output_type": "stream",
     "text": [
      "Attention Scores (dot products):\n",
      "tensor([[ 5.7747, -0.6610, -3.2334, -0.5419],\n",
      "        [-0.6610,  0.4589,  0.5484,  0.3218],\n",
      "        [-3.2334,  0.5484,  1.9090,  0.4089],\n",
      "        [-0.5419,  0.3218,  0.4089,  0.2420]], grad_fn=<MmBackward0>)\n"
     ]
    }
   ],
   "source": [
    "import torch.nn.functional as F\n",
    "embeddings = input_embeddings.squeeze(0)\n",
    "attention_scores = torch.matmul(embeddings, embeddings.transpose(0, 1))\n",
    "print(\"Attention Scores (dot products):\")\n",
    "print(attention_scores)\n"
   ]
  },
  {
   "cell_type": "code",
   "execution_count": 37,
   "id": "8d3175db",
   "metadata": {},
   "outputs": [
    {
     "name": "stdout",
     "output_type": "stream",
     "text": [
      "w11 = 5.7747\n",
      "w12 = -0.6610\n",
      "w13 = -3.2334\n",
      "w14 = -0.5419\n",
      "w21 = -0.6610\n",
      "w22 = 0.4589\n",
      "w23 = 0.5484\n",
      "w24 = 0.3218\n",
      "w31 = -3.2334\n",
      "w32 = 0.5484\n",
      "w33 = 1.9090\n",
      "w34 = 0.4089\n",
      "w41 = -0.5419\n",
      "w42 = 0.3218\n",
      "w43 = 0.4089\n",
      "w44 = 0.2420\n"
     ]
    }
   ],
   "source": [
    "for i in range(4):\n",
    "    for j in range(4):\n",
    "        print(f\"w{i+1}{j+1} = {attention_scores[i][j]:.4f}\")"
   ]
  },
  {
   "cell_type": "code",
   "execution_count": 34,
   "id": "054e01d6",
   "metadata": {},
   "outputs": [
    {
     "name": "stdout",
     "output_type": "stream",
     "text": [
      "\n",
      "Attention Weights (after softmax):\n",
      "tensor([[9.9648e-01, 1.5977e-03, 1.2198e-04, 1.7996e-03],\n",
      "        [9.9131e-02, 3.0379e-01, 3.3221e-01, 2.6487e-01],\n",
      "        [3.9338e-03, 1.7267e-01, 6.7320e-01, 1.5020e-01],\n",
      "        [1.2270e-01, 2.9105e-01, 3.1754e-01, 2.6871e-01]],\n",
      "       grad_fn=<SoftmaxBackward0>)\n"
     ]
    }
   ],
   "source": [
    "attention_weights = F.softmax(attention_scores, dim=-1)\n",
    "print(\"\\nAttention Weights (after softmax):\")\n",
    "print(attention_weights)"
   ]
  },
  {
   "cell_type": "code",
   "execution_count": 35,
   "id": "702cb567",
   "metadata": {},
   "outputs": [
    {
     "name": "stdout",
     "output_type": "stream",
     "text": [
      "\n",
      "Individual attention weights:\n",
      "w11 = 0.9965\n",
      "w12 = 0.0016\n",
      "w13 = 0.0001\n",
      "w14 = 0.0018\n",
      "w21 = 0.0991\n",
      "w22 = 0.3038\n",
      "w23 = 0.3322\n",
      "w24 = 0.2649\n",
      "w31 = 0.0039\n",
      "w32 = 0.1727\n",
      "w33 = 0.6732\n",
      "w34 = 0.1502\n",
      "w41 = 0.1227\n",
      "w42 = 0.2910\n",
      "w43 = 0.3175\n",
      "w44 = 0.2687\n"
     ]
    }
   ],
   "source": [
    "# Print individual weights\n",
    "print(\"\\nIndividual attention weights:\")\n",
    "for i in range(4):\n",
    "    for j in range(4):\n",
    "        print(f\"w{i+1}{j+1} = {attention_weights[i][j]:.4f}\")"
   ]
  },
  {
   "cell_type": "markdown",
   "id": "a7b5b7b0",
   "metadata": {},
   "source": [
    "compute the context vector"
   ]
  },
  {
   "cell_type": "code",
   "execution_count": 40,
   "id": "5b446ce5",
   "metadata": {},
   "outputs": [
    {
     "data": {
      "text/plain": [
       "tensor([[ 0.4041, -1.8728,  1.4348],\n",
       "        [-0.3778,  0.3704,  0.0030],\n",
       "        [-0.4273,  0.8858, -0.3541],\n",
       "        [-0.3571,  0.3049,  0.0434]], grad_fn=<MmBackward0>)"
      ]
     },
     "execution_count": 40,
     "metadata": {},
     "output_type": "execute_result"
    }
   ],
   "source": [
    "context_vectors = torch.matmul(attention_weights, embeddings)\n",
    "context_vectors"
   ]
  },
  {
   "cell_type": "code",
   "execution_count": null,
   "id": "40397100",
   "metadata": {},
   "outputs": [],
   "source": []
  }
 ],
 "metadata": {
  "kernelspec": {
   "display_name": "myenv2",
   "language": "python",
   "name": "python3"
  },
  "language_info": {
   "codemirror_mode": {
    "name": "ipython",
    "version": 3
   },
   "file_extension": ".py",
   "mimetype": "text/x-python",
   "name": "python",
   "nbconvert_exporter": "python",
   "pygments_lexer": "ipython3",
   "version": "3.13.5"
  }
 },
 "nbformat": 4,
 "nbformat_minor": 5
}
