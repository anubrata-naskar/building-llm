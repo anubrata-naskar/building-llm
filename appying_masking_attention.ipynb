{
 "cells": [
  {
   "cell_type": "markdown",
   "id": "fccd097f",
   "metadata": {},
   "source": [
    "## **Attention masking ( hide future word)**"
   ]
  },
  {
   "cell_type": "code",
   "execution_count": 1,
   "id": "a529e057",
   "metadata": {},
   "outputs": [
    {
     "data": {
      "text/plain": [
       "tensor([[-1.3623, -0.8648, -0.7154],\n",
       "        [-1.3506, -0.8700,  0.0080],\n",
       "        [-2.4313, -2.0778, -2.6057],\n",
       "        [-0.9143,  0.5596,  1.4268],\n",
       "        [-1.5556,  0.2111, -1.6661],\n",
       "        [ 1.4545,  0.4688,  1.6685],\n",
       "        [ 0.3324, -0.4165,  2.4709]], grad_fn=<SelectBackward0>)"
      ]
     },
     "execution_count": 1,
     "metadata": {},
     "output_type": "execute_result"
    }
   ],
   "source": [
    "import tiktoken\n",
    "import torch\n",
    "from torch.utils.data import Dataset, DataLoader\n",
    "\n",
    "\n",
    "class GPTDatasetV1(Dataset):\n",
    "    def __init__(self, txt, tokenizer, max_length, stride):\n",
    "        self.input_ids = []\n",
    "        self.target_ids = []\n",
    "        \n",
    "        token_ids = tokenizer.encode(txt, allowed_special={\"<|endoftext|>\"})\n",
    "        \n",
    "        if len(token_ids) == max_length:\n",
    "            input_chunk = token_ids\n",
    "            target_chunk = token_ids[1:] + [token_ids[-1]]\n",
    "            self.input_ids.append(torch.tensor(input_chunk))\n",
    "            self.target_ids.append(torch.tensor(target_chunk))\n",
    "            \n",
    "        elif len(token_ids) < max_length:\n",
    "            padded_tokens = token_ids + [0] * (max_length - len(token_ids))\n",
    "            input_chunk = padded_tokens\n",
    "            target_chunk = padded_tokens[1:] + [0]\n",
    "            self.input_ids.append(torch.tensor(input_chunk))\n",
    "            self.target_ids.append(torch.tensor(target_chunk))\n",
    "            \n",
    "        else:\n",
    "            for i in range(0, len(token_ids) - max_length, stride):\n",
    "                input_chunk = token_ids[i : i + max_length]\n",
    "                target_chunk = token_ids[i + 1 : i + max_length + 1]\n",
    "                self.input_ids.append(torch.tensor(input_chunk))\n",
    "                self.target_ids.append(torch.tensor(target_chunk))\n",
    "\n",
    "    def __len__(self):\n",
    "        return len(self.input_ids)\n",
    "\n",
    "    def __getitem__(self, idx):\n",
    "        return self.input_ids[idx], self.target_ids[idx]\n",
    "\n",
    "\n",
    "def create_dataloader_v1(txt, batch_size=2, max_length=256,\n",
    "                         stride=128, shuffle=True, drop_last=True,\n",
    "                         num_workers=0):\n",
    "    \n",
    "    tokenizer = tiktoken.get_encoding(\"gpt2\")\n",
    "    dataset = GPTDatasetV1(txt, tokenizer, max_length, stride)\n",
    "    \n",
    "    dataloader = DataLoader(\n",
    "        dataset,\n",
    "        batch_size=batch_size,\n",
    "        shuffle=shuffle,\n",
    "        drop_last=drop_last,\n",
    "        num_workers=num_workers\n",
    "    )\n",
    "    \n",
    "    return dataloader    \n",
    "\n",
    "\n",
    "\n",
    "raw_text = \"Yours journey start with one steps\"\n",
    "tokenizer = tiktoken.get_encoding(\"gpt2\")\n",
    "token_ids = tokenizer.encode(raw_text, allowed_special={\"<|endoftext|>\"})\n",
    "\n",
    "max_length = len(token_ids)\n",
    "vocab_size = 50257\n",
    "output_dim = 3\n",
    "\n",
    "token_embedding_layer = torch.nn.Embedding(vocab_size, output_dim)\n",
    "pos_embedding_layer = torch.nn.Embedding(max_length, output_dim)\n",
    "\n",
    "dataloader = create_dataloader_v1(\n",
    "    raw_text, batch_size=1, max_length=max_length,\n",
    "    stride=max_length, shuffle=False\n",
    ")\n",
    "\n",
    "data_iter = iter(dataloader)\n",
    "inputs, targets = next(data_iter)\n",
    "\n",
    "token_embeddings = token_embedding_layer(inputs)\n",
    "pos_embeddings = pos_embedding_layer(torch.arange(max_length))\n",
    "\n",
    "input_embeddings = token_embeddings + pos_embeddings\n",
    "input_embeddings[0]\n"
   ]
  },
  {
   "cell_type": "code",
   "execution_count": 2,
   "id": "cdb9fbfb",
   "metadata": {},
   "outputs": [],
   "source": [
    "import torch.nn as nn\n",
    "class SelfAttention_v2(nn.Module):\n",
    "    \n",
    "    def __init__(self, d_in, d_out):\n",
    "        super().__init__()\n",
    "        self.w_query = torch.nn.Linear(d_in, d_out, bias=False)\n",
    "        self.w_key = torch.nn.Linear(d_in, d_out, bias=False)\n",
    "        self.w_value = torch.nn.Linear(d_in, d_out, bias=False)\n",
    "        \n",
    "    def forward(self, inputs):\n",
    "        queries = self.w_query(inputs)\n",
    "        keys = self.w_key(inputs)\n",
    "        values = self.w_value(inputs)\n",
    "        \n",
    "        attn_scores = queries @ keys.T\n",
    "        attn_weights = torch.softmax(attn_scores / keys.shape[1]**0.5, dim=-1)\n",
    "        \n",
    "        context_vec = attn_weights @ values\n",
    "        \n",
    "        return context_vec"
   ]
  },
  {
   "cell_type": "code",
   "execution_count": 3,
   "id": "c0bab272",
   "metadata": {},
   "outputs": [
    {
     "data": {
      "text/plain": [
       "tensor([[ 0.3517,  0.4018, -0.1902],\n",
       "        [ 0.1683,  0.0663, -0.0016],\n",
       "        [ 0.6731,  0.9933, -0.5566],\n",
       "        [-0.0573, -0.3358,  0.2475],\n",
       "        [ 0.6036,  0.9164, -0.4988],\n",
       "        [-0.4543, -1.0243,  0.6178],\n",
       "        [-0.5950, -1.2418,  0.6766]], grad_fn=<MmBackward0>)"
      ]
     },
     "execution_count": 3,
     "metadata": {},
     "output_type": "execute_result"
    }
   ],
   "source": [
    "torch.manual_seed(123)\n",
    "rows = input_embeddings[0].shape[0]\n",
    "cols = input_embeddings[0].shape[1]\n",
    "sa_v2 = SelfAttention_v2(cols,output_dim)    \n",
    "sa_v2(input_embeddings[0])"
   ]
  },
  {
   "cell_type": "code",
   "execution_count": 6,
   "id": "ebe06f89",
   "metadata": {},
   "outputs": [
    {
     "data": {
      "text/plain": [
       "tensor([[0.1064, 0.1377, 0.0785, 0.1426, 0.0523, 0.1784, 0.3041],\n",
       "        [0.1348, 0.1594, 0.1348, 0.1386, 0.0784, 0.1318, 0.2223],\n",
       "        [0.0389, 0.0735, 0.0159, 0.0900, 0.0071, 0.1802, 0.5944],\n",
       "        [0.1510, 0.1378, 0.1771, 0.1304, 0.1900, 0.1145, 0.0993],\n",
       "        [0.0450, 0.0650, 0.0143, 0.1225, 0.0217, 0.3424, 0.3891],\n",
       "        [0.1377, 0.0947, 0.3278, 0.0635, 0.3262, 0.0300, 0.0202],\n",
       "        [0.1326, 0.0955, 0.4657, 0.0447, 0.2319, 0.0141, 0.0155]],\n",
       "       grad_fn=<SoftmaxBackward0>)"
      ]
     },
     "execution_count": 6,
     "metadata": {},
     "output_type": "execute_result"
    }
   ],
   "source": [
    "queries = sa_v2.w_query(input_embeddings[0])\n",
    "keys = sa_v2.w_key(input_embeddings[0])\n",
    "values = sa_v2.w_value(input_embeddings[0])\n",
    "\n",
    "attn_scores = queries @ keys.T\n",
    "attn_weights = torch.softmax(attn_scores / keys.shape[1]**0.5, dim=-1)\n",
    "\n",
    "attn_weights"
   ]
  },
  {
   "cell_type": "code",
   "execution_count": 5,
   "id": "b1d7b1ca",
   "metadata": {},
   "outputs": [
    {
     "data": {
      "text/plain": [
       "tensor([[1., 0., 0., 0., 0., 0., 0.],\n",
       "        [1., 1., 0., 0., 0., 0., 0.],\n",
       "        [1., 1., 1., 0., 0., 0., 0.],\n",
       "        [1., 1., 1., 1., 0., 0., 0.],\n",
       "        [1., 1., 1., 1., 1., 0., 0.],\n",
       "        [1., 1., 1., 1., 1., 1., 0.],\n",
       "        [1., 1., 1., 1., 1., 1., 1.]])"
      ]
     },
     "execution_count": 5,
     "metadata": {},
     "output_type": "execute_result"
    }
   ],
   "source": [
    "context_length = attn_scores.shape[0]\n",
    "mask_simple = torch.tril(torch.ones(context_length, context_length))\n",
    "\n",
    "mask_simple"
   ]
  },
  {
   "cell_type": "code",
   "execution_count": 7,
   "id": "020d21d0",
   "metadata": {},
   "outputs": [
    {
     "data": {
      "text/plain": [
       "tensor([[0.1064, 0.0000, 0.0000, 0.0000, 0.0000, 0.0000, 0.0000],\n",
       "        [0.1348, 0.1594, 0.0000, 0.0000, 0.0000, 0.0000, 0.0000],\n",
       "        [0.0389, 0.0735, 0.0159, 0.0000, 0.0000, 0.0000, 0.0000],\n",
       "        [0.1510, 0.1378, 0.1771, 0.1304, 0.0000, 0.0000, 0.0000],\n",
       "        [0.0450, 0.0650, 0.0143, 0.1225, 0.0217, 0.0000, 0.0000],\n",
       "        [0.1377, 0.0947, 0.3278, 0.0635, 0.3262, 0.0300, 0.0000],\n",
       "        [0.1326, 0.0955, 0.4657, 0.0447, 0.2319, 0.0141, 0.0155]],\n",
       "       grad_fn=<MulBackward0>)"
      ]
     },
     "execution_count": 7,
     "metadata": {},
     "output_type": "execute_result"
    }
   ],
   "source": [
    "mask_attn_weights = attn_weights * mask_simple\n",
    "mask_attn_weights\n"
   ]
  },
  {
   "cell_type": "markdown",
   "id": "e17deeb8",
   "metadata": {},
   "source": [
    "## Rows normalize"
   ]
  },
  {
   "cell_type": "code",
   "execution_count": 8,
   "id": "ea2af4e2",
   "metadata": {},
   "outputs": [
    {
     "data": {
      "text/plain": [
       "tensor([[1.0000, 0.0000, 0.0000, 0.0000, 0.0000, 0.0000, 0.0000],\n",
       "        [0.4581, 0.5419, 0.0000, 0.0000, 0.0000, 0.0000, 0.0000],\n",
       "        [0.3029, 0.5729, 0.1241, 0.0000, 0.0000, 0.0000, 0.0000],\n",
       "        [0.2532, 0.2311, 0.2970, 0.2186, 0.0000, 0.0000, 0.0000],\n",
       "        [0.1677, 0.2420, 0.0534, 0.4560, 0.0808, 0.0000, 0.0000],\n",
       "        [0.1405, 0.0966, 0.3345, 0.0648, 0.3329, 0.0306, 0.0000],\n",
       "        [0.1326, 0.0955, 0.4657, 0.0447, 0.2319, 0.0141, 0.0155]],\n",
       "       grad_fn=<DivBackward0>)"
      ]
     },
     "execution_count": 8,
     "metadata": {},
     "output_type": "execute_result"
    }
   ],
   "source": [
    "rows_sum = mask_attn_weights.sum(dim=-1, keepdim=True)\n",
    "mask_attn_weights_norm = mask_attn_weights / rows_sum\n",
    "mask_attn_weights_norm"
   ]
  },
  {
   "cell_type": "markdown",
   "id": "89895e93",
   "metadata": {},
   "source": [
    "## Final Self-Attention"
   ]
  },
  {
   "cell_type": "code",
   "execution_count": 9,
   "id": "427cd3a1",
   "metadata": {},
   "outputs": [],
   "source": [
    "import torch.nn as nn\n",
    "class CausalAttention(nn.Module):\n",
    "    \n",
    "    def __init__(self, d_in, d_out, context_length, dropout):\n",
    "        super().__init__()\n",
    "        self.w_query = torch.nn.Linear(d_in, d_out, bias=False)\n",
    "        self.w_key = torch.nn.Linear(d_in, d_out, bias=False)\n",
    "        self.w_value = torch.nn.Linear(d_in, d_out, bias=False)\n",
    "        self.dropout = torch.nn.Dropout(dropout)\n",
    "        self.register_buffer(\"mask\", torch.triu(torch.ones(context_length, context_length), diagonal=1))\n",
    "        \n",
    "    def forward(self, inputs):\n",
    "        queries = self.w_query(inputs)\n",
    "        keys = self.w_key(inputs)\n",
    "        values = self.w_value(inputs)\n",
    "        \n",
    "        attn_scores = queries @ keys.transpose(1, 2)\n",
    "        attn_scores = attn_scores.masked_fill(self.mask == 1, float('-inf'))\n",
    "        attn_weights = torch.softmax(attn_scores / keys.shape[-1]**0.5, dim=-1)\n",
    "        \n",
    "        context_vec = attn_weights @ values\n",
    "        \n",
    "        return context_vec"
   ]
  },
  {
   "cell_type": "code",
   "execution_count": 11,
   "id": "5b695597",
   "metadata": {},
   "outputs": [
    {
     "data": {
      "text/plain": [
       "tensor([[[-0.8334,  0.8476, -0.0489],\n",
       "         [-0.7711,  0.6804, -0.1014],\n",
       "         [-0.8331,  0.7543, -0.1069],\n",
       "         [-1.0446,  1.0713, -0.0611],\n",
       "         [-0.4382,  0.2421, -0.0030],\n",
       "         [-0.9566,  1.0776,  0.0076],\n",
       "         [-0.7571,  0.7951, -0.0297]]], grad_fn=<UnsafeViewBackward0>)"
      ]
     },
     "execution_count": 11,
     "metadata": {},
     "output_type": "execute_result"
    }
   ],
   "source": [
    "torch.manual_seed(789)\n",
    "ca = CausalAttention(cols, output_dim, context_length=max_length, dropout=0.0)\n",
    "\n",
    "result = ca(input_embeddings)\n",
    "result"
   ]
  },
  {
   "cell_type": "code",
   "execution_count": null,
   "id": "ee133a46",
   "metadata": {},
   "outputs": [],
   "source": []
  }
 ],
 "metadata": {
  "kernelspec": {
   "display_name": "myenv2",
   "language": "python",
   "name": "python3"
  },
  "language_info": {
   "codemirror_mode": {
    "name": "ipython",
    "version": 3
   },
   "file_extension": ".py",
   "mimetype": "text/x-python",
   "name": "python",
   "nbconvert_exporter": "python",
   "pygments_lexer": "ipython3",
   "version": "3.13.5"
  }
 },
 "nbformat": 4,
 "nbformat_minor": 5
}
