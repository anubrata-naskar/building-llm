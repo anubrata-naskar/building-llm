{
 "cells": [
  {
   "cell_type": "markdown",
   "id": "fccd097f",
   "metadata": {},
   "source": [
    "## **Attention masking ( hide future word)**"
   ]
  },
  {
   "cell_type": "code",
   "execution_count": 34,
   "id": "a529e057",
   "metadata": {},
   "outputs": [
    {
     "data": {
      "text/plain": [
       "tensor([[-2.2151,  2.7693,  0.4419],\n",
       "        [-2.6485,  0.6560, -0.8422],\n",
       "        [-4.0542, -0.0676, -0.6946],\n",
       "        [ 1.0932,  0.6538, -0.2154],\n",
       "        [ 0.7685, -0.7436,  1.1174],\n",
       "        [-1.1274,  0.6884,  0.7027],\n",
       "        [-1.5350, -0.0513,  0.5445]], grad_fn=<SelectBackward0>)"
      ]
     },
     "execution_count": 34,
     "metadata": {},
     "output_type": "execute_result"
    }
   ],
   "source": [
    "import tiktoken\n",
    "import torch\n",
    "from torch.utils.data import Dataset, DataLoader\n",
    "\n",
    "\n",
    "class GPTDatasetV1(Dataset):\n",
    "    def __init__(self, txt, tokenizer, max_length, stride):\n",
    "        self.input_ids = []\n",
    "        self.target_ids = []\n",
    "        \n",
    "        token_ids = tokenizer.encode(txt, allowed_special={\"<|endoftext|>\"})\n",
    "        \n",
    "        if len(token_ids) == max_length:\n",
    "            input_chunk = token_ids\n",
    "            target_chunk = token_ids[1:] + [token_ids[-1]]\n",
    "            self.input_ids.append(torch.tensor(input_chunk))\n",
    "            self.target_ids.append(torch.tensor(target_chunk))\n",
    "            \n",
    "        elif len(token_ids) < max_length:\n",
    "            padded_tokens = token_ids + [0] * (max_length - len(token_ids))\n",
    "            input_chunk = padded_tokens\n",
    "            target_chunk = padded_tokens[1:] + [0]\n",
    "            self.input_ids.append(torch.tensor(input_chunk))\n",
    "            self.target_ids.append(torch.tensor(target_chunk))\n",
    "            \n",
    "        else:\n",
    "            for i in range(0, len(token_ids) - max_length, stride):\n",
    "                input_chunk = token_ids[i : i + max_length]\n",
    "                target_chunk = token_ids[i + 1 : i + max_length + 1]\n",
    "                self.input_ids.append(torch.tensor(input_chunk))\n",
    "                self.target_ids.append(torch.tensor(target_chunk))\n",
    "\n",
    "    def __len__(self):\n",
    "        return len(self.input_ids)\n",
    "\n",
    "    def __getitem__(self, idx):\n",
    "        return self.input_ids[idx], self.target_ids[idx]\n",
    "\n",
    "\n",
    "def create_dataloader_v1(txt, batch_size=2, max_length=256,\n",
    "                         stride=128, shuffle=True, drop_last=True,\n",
    "                         num_workers=0):\n",
    "    \n",
    "    tokenizer = tiktoken.get_encoding(\"gpt2\")\n",
    "    dataset = GPTDatasetV1(txt, tokenizer, max_length, stride)\n",
    "    \n",
    "    dataloader = DataLoader(\n",
    "        dataset,\n",
    "        batch_size=batch_size,\n",
    "        shuffle=shuffle,\n",
    "        drop_last=drop_last,\n",
    "        num_workers=num_workers\n",
    "    )\n",
    "    \n",
    "    return dataloader    \n",
    "\n",
    "\n",
    "\n",
    "raw_text = \"Yours journey start with one steps\"\n",
    "tokenizer = tiktoken.get_encoding(\"gpt2\")\n",
    "token_ids = tokenizer.encode(raw_text, allowed_special={\"<|endoftext|>\"})\n",
    "\n",
    "max_length = len(token_ids)\n",
    "vocab_size = 50257\n",
    "output_dim = 3\n",
    "\n",
    "token_embedding_layer = torch.nn.Embedding(vocab_size, output_dim)\n",
    "pos_embedding_layer = torch.nn.Embedding(max_length, output_dim)\n",
    "\n",
    "dataloader = create_dataloader_v1(\n",
    "    raw_text, batch_size=1, max_length=max_length,\n",
    "    stride=max_length, shuffle=False\n",
    ")\n",
    "\n",
    "data_iter = iter(dataloader)\n",
    "inputs, targets = next(data_iter)\n",
    "\n",
    "token_embeddings = token_embedding_layer(inputs)\n",
    "pos_embeddings = pos_embedding_layer(torch.arange(max_length))\n",
    "\n",
    "input_embeddings = token_embeddings + pos_embeddings\n",
    "input_embeddings[0]\n"
   ]
  },
  {
   "cell_type": "code",
   "execution_count": 35,
   "id": "cdb9fbfb",
   "metadata": {},
   "outputs": [],
   "source": [
    "import torch.nn as nn\n",
    "class SelfAttention_v2(nn.Module):\n",
    "    \n",
    "    def __init__(self, d_in, d_out):\n",
    "        super().__init__()\n",
    "        self.w_query = torch.nn.Linear(d_in, d_out, bias=False)\n",
    "        self.w_key = torch.nn.Linear(d_in, d_out, bias=False)\n",
    "        self.w_value = torch.nn.Linear(d_in, d_out, bias=False)\n",
    "        \n",
    "    def forward(self, inputs):\n",
    "        queries = self.w_query(inputs)\n",
    "        keys = self.w_key(inputs)\n",
    "        values = self.w_value(inputs)\n",
    "        \n",
    "        attn_scores = queries @ keys.T\n",
    "        attn_weights = torch.softmax(attn_scores / keys.shape[1]**0.5, dim=-1)\n",
    "        \n",
    "        context_vec = attn_weights @ values\n",
    "        \n",
    "        return context_vec"
   ]
  },
  {
   "cell_type": "code",
   "execution_count": 36,
   "id": "c0bab272",
   "metadata": {},
   "outputs": [
    {
     "data": {
      "text/plain": [
       "tensor([[ 0.2631,  0.2517,  0.0760],\n",
       "        [ 0.2570,  0.3280, -0.1216],\n",
       "        [ 0.2546,  0.3840, -0.2348],\n",
       "        [ 0.3834,  0.0429,  0.4746],\n",
       "        [ 0.3459, -0.3084,  0.8016],\n",
       "        [ 0.3498,  0.0912,  0.3461],\n",
       "        [ 0.3349,  0.0736,  0.3175]], grad_fn=<MmBackward0>)"
      ]
     },
     "execution_count": 36,
     "metadata": {},
     "output_type": "execute_result"
    }
   ],
   "source": [
    "torch.manual_seed(123)\n",
    "rows = input_embeddings[0].shape[0]\n",
    "cols = input_embeddings[0].shape[1]\n",
    "sa_v2 = SelfAttention_v2(cols,output_dim)    \n",
    "sa_v2(input_embeddings[0])"
   ]
  },
  {
   "cell_type": "code",
   "execution_count": 37,
   "id": "ebe06f89",
   "metadata": {},
   "outputs": [
    {
     "data": {
      "text/plain": [
       "tensor([[0.1509, 0.0411, 0.0141, 0.3799, 0.2178, 0.1247, 0.0714],\n",
       "        [0.0553, 0.0323, 0.0214, 0.2091, 0.4359, 0.1320, 0.1140],\n",
       "        [0.0268, 0.0219, 0.0196, 0.1360, 0.5613, 0.1146, 0.1197],\n",
       "        [0.2093, 0.1514, 0.1141, 0.1765, 0.1025, 0.1338, 0.1124],\n",
       "        [0.1252, 0.2242, 0.3563, 0.0536, 0.0440, 0.0880, 0.1087],\n",
       "        [0.1536, 0.1222, 0.1011, 0.1797, 0.1619, 0.1476, 0.1338],\n",
       "        [0.1078, 0.1175, 0.1275, 0.1392, 0.1987, 0.1497, 0.1596]],\n",
       "       grad_fn=<SoftmaxBackward0>)"
      ]
     },
     "execution_count": 37,
     "metadata": {},
     "output_type": "execute_result"
    }
   ],
   "source": [
    "queries = sa_v2.w_query(input_embeddings[0])\n",
    "keys = sa_v2.w_key(input_embeddings[0])\n",
    "values = sa_v2.w_value(input_embeddings[0])\n",
    "\n",
    "attn_scores = queries @ keys.T\n",
    "attn_weights = torch.softmax(attn_scores / keys.shape[1]**0.5, dim=-1)\n",
    "\n",
    "attn_weights"
   ]
  },
  {
   "cell_type": "code",
   "execution_count": 38,
   "id": "b1d7b1ca",
   "metadata": {},
   "outputs": [
    {
     "data": {
      "text/plain": [
       "tensor([[1., 0., 0., 0., 0., 0., 0.],\n",
       "        [1., 1., 0., 0., 0., 0., 0.],\n",
       "        [1., 1., 1., 0., 0., 0., 0.],\n",
       "        [1., 1., 1., 1., 0., 0., 0.],\n",
       "        [1., 1., 1., 1., 1., 0., 0.],\n",
       "        [1., 1., 1., 1., 1., 1., 0.],\n",
       "        [1., 1., 1., 1., 1., 1., 1.]])"
      ]
     },
     "execution_count": 38,
     "metadata": {},
     "output_type": "execute_result"
    }
   ],
   "source": [
    "context_length = attn_scores.shape[0]\n",
    "mask_simple = torch.tril(torch.ones(context_length, context_length))\n",
    "\n",
    "mask_simple"
   ]
  },
  {
   "cell_type": "code",
   "execution_count": 39,
   "id": "020d21d0",
   "metadata": {},
   "outputs": [
    {
     "data": {
      "text/plain": [
       "tensor([[0.1509, 0.0000, 0.0000, 0.0000, 0.0000, 0.0000, 0.0000],\n",
       "        [0.0553, 0.0323, 0.0000, 0.0000, 0.0000, 0.0000, 0.0000],\n",
       "        [0.0268, 0.0219, 0.0196, 0.0000, 0.0000, 0.0000, 0.0000],\n",
       "        [0.2093, 0.1514, 0.1141, 0.1765, 0.0000, 0.0000, 0.0000],\n",
       "        [0.1252, 0.2242, 0.3563, 0.0536, 0.0440, 0.0000, 0.0000],\n",
       "        [0.1536, 0.1222, 0.1011, 0.1797, 0.1619, 0.1476, 0.0000],\n",
       "        [0.1078, 0.1175, 0.1275, 0.1392, 0.1987, 0.1497, 0.1596]],\n",
       "       grad_fn=<MulBackward0>)"
      ]
     },
     "execution_count": 39,
     "metadata": {},
     "output_type": "execute_result"
    }
   ],
   "source": [
    "mask_attn_weights = attn_weights * mask_simple\n",
    "mask_attn_weights\n"
   ]
  },
  {
   "cell_type": "markdown",
   "id": "e17deeb8",
   "metadata": {},
   "source": [
    "## Rows normalize"
   ]
  },
  {
   "cell_type": "code",
   "execution_count": 40,
   "id": "ea2af4e2",
   "metadata": {},
   "outputs": [
    {
     "data": {
      "text/plain": [
       "tensor([[1.0000, 0.0000, 0.0000, 0.0000, 0.0000, 0.0000, 0.0000],\n",
       "        [0.6315, 0.3685, 0.0000, 0.0000, 0.0000, 0.0000, 0.0000],\n",
       "        [0.3922, 0.3206, 0.2872, 0.0000, 0.0000, 0.0000, 0.0000],\n",
       "        [0.3214, 0.2324, 0.1752, 0.2710, 0.0000, 0.0000, 0.0000],\n",
       "        [0.1559, 0.2791, 0.4435, 0.0667, 0.0548, 0.0000, 0.0000],\n",
       "        [0.1773, 0.1411, 0.1167, 0.2075, 0.1869, 0.1704, 0.0000],\n",
       "        [0.1078, 0.1175, 0.1275, 0.1392, 0.1987, 0.1497, 0.1596]],\n",
       "       grad_fn=<DivBackward0>)"
      ]
     },
     "execution_count": 40,
     "metadata": {},
     "output_type": "execute_result"
    }
   ],
   "source": [
    "rows_sum = mask_attn_weights.sum(dim=-1, keepdim=True)\n",
    "mask_attn_weights_norm = mask_attn_weights / rows_sum\n",
    "mask_attn_weights_norm"
   ]
  },
  {
   "cell_type": "markdown",
   "id": "89895e93",
   "metadata": {},
   "source": [
    "## Final Self-Attention"
   ]
  },
  {
   "cell_type": "code",
   "execution_count": 41,
   "id": "427cd3a1",
   "metadata": {},
   "outputs": [],
   "source": [
    "import torch.nn as nn\n",
    "class CausalAttention(nn.Module):\n",
    "    \n",
    "    def __init__(self, d_in, d_out, context_length, dropout):\n",
    "        super().__init__()\n",
    "        self.w_query = torch.nn.Linear(d_in, d_out, bias=False)\n",
    "        self.w_key = torch.nn.Linear(d_in, d_out, bias=False)\n",
    "        self.w_value = torch.nn.Linear(d_in, d_out, bias=False)\n",
    "        self.dropout = torch.nn.Dropout(dropout)\n",
    "        self.register_buffer(\"mask\", torch.triu(torch.ones(context_length, context_length), diagonal=1))\n",
    "        \n",
    "    def forward(self, inputs):\n",
    "        queries = self.w_query(inputs)\n",
    "        keys = self.w_key(inputs)\n",
    "        values = self.w_value(inputs)\n",
    "        \n",
    "        attn_scores = queries @ keys.transpose(-2, -1) \n",
    "        attn_scores = attn_scores.masked_fill(self.mask == 1, float('-inf'))\n",
    "        attn_weights = torch.softmax(attn_scores / keys.shape[-1]**0.5, dim=-1)\n",
    "        attn_weights = self.dropout(attn_weights)\n",
    "        \n",
    "        context_vec = attn_weights @ values\n",
    "        \n",
    "        return context_vec"
   ]
  },
  {
   "cell_type": "code",
   "execution_count": 42,
   "id": "5b695597",
   "metadata": {},
   "outputs": [
    {
     "data": {
      "text/plain": [
       "tensor([[[ 0.3539, -0.7506,  0.6953],\n",
       "         [ 0.0083, -0.3133,  0.5954],\n",
       "         [-0.4288,  0.0989,  0.4910],\n",
       "         [-0.3225,  0.1824,  0.3460],\n",
       "         [ 0.0753, -0.1343,  0.0775],\n",
       "         [-0.3474,  0.1171,  0.2567],\n",
       "         [-0.2855,  0.0366,  0.2153]]], grad_fn=<UnsafeViewBackward0>)"
      ]
     },
     "execution_count": 42,
     "metadata": {},
     "output_type": "execute_result"
    }
   ],
   "source": [
    "torch.manual_seed(789)\n",
    "ca = CausalAttention(cols, output_dim, context_length=max_length, dropout=0.0)\n",
    "\n",
    "result = ca(input_embeddings)\n",
    "result"
   ]
  },
  {
   "cell_type": "code",
   "execution_count": null,
   "id": "ee133a46",
   "metadata": {},
   "outputs": [],
   "source": []
  }
 ],
 "metadata": {
  "kernelspec": {
   "display_name": "myenv2",
   "language": "python",
   "name": "python3"
  },
  "language_info": {
   "codemirror_mode": {
    "name": "ipython",
    "version": 3
   },
   "file_extension": ".py",
   "mimetype": "text/x-python",
   "name": "python",
   "nbconvert_exporter": "python",
   "pygments_lexer": "ipython3",
   "version": "3.13.5"
  }
 },
 "nbformat": 4,
 "nbformat_minor": 5
}
